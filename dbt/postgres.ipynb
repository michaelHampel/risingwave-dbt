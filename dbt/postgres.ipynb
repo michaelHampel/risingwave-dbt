{
 "cells": [
  {
   "cell_type": "code",
   "execution_count": 1,
   "metadata": {},
   "outputs": [
    {
     "name": "stdout",
     "output_type": "stream",
     "text": [
      "[(1, 'John', 'Smith', 28), (2, 'Emma', 'Johnson', 34), (3, 'Michael', 'Brown', 41), (4, 'Sophia', 'Williams', 25), (5, 'David', 'Garcia', 37), (6, 'Olivia', 'Jones', 29), (7, 'William', 'Miller', 45), (8, 'Ava', 'Martinez', 32), (9, 'James', 'Davis', 39), (10, 'Mia', 'Taylor', 27)]\n"
     ]
    }
   ],
   "source": [
    "import psycopg2\n",
    "\n",
    "conn = psycopg2.connect(host=\"localhost\", port=5432, user=\"postgres\", dbname=\"postgres\") # Connect to postgres.\n",
    "conn.autocommit = True # Set queries to be automatically committed.\n",
    "\n",
    "# create a table , insert & query data in Postgres'\n",
    "\n",
    "with conn.cursor() as cur:\n",
    "    cur.execute(\"\"\"\n",
    "CREATE TABLE IF NOT EXISTS users (\n",
    "    id SERIAL PRIMARY KEY,\n",
    "    first_name VARCHAR(50),\n",
    "    last_name VARCHAR(50),\n",
    "    age INT\n",
    ");\"\"\")\n",
    "    \n",
    "    cur.execute(\"\"\"\n",
    "INSERT INTO users (first_name, last_name, age) VALUES\n",
    "    ('John', 'Smith', 28),\n",
    "    ('Emma', 'Johnson', 34),\n",
    "    ('Michael', 'Brown', 41),\n",
    "    ('Sophia', 'Williams', 25),\n",
    "    ('David', 'Garcia', 37),\n",
    "    ('Olivia', 'Jones', 29),\n",
    "    ('William', 'Miller', 45),\n",
    "    ('Ava', 'Martinez', 32),\n",
    "    ('James', 'Davis', 39),\n",
    "    ('Mia', 'Taylor', 27);\"\"\")\n",
    "\n",
    "    cur.execute(\"\"\"\n",
    "select * from users;\"\"\")\n",
    "    print(cur.fetchall())\n",
    "    \n",
    "conn.close()    "
   ]
  }
 ],
 "metadata": {
  "kernelspec": {
   "display_name": "rw_kernel",
   "language": "python",
   "name": "rw_kernel"
  },
  "language_info": {
   "codemirror_mode": {
    "name": "ipython",
    "version": 3
   },
   "file_extension": ".py",
   "mimetype": "text/x-python",
   "name": "python",
   "nbconvert_exporter": "python",
   "pygments_lexer": "ipython3",
   "version": "3.12.3"
  }
 },
 "nbformat": 4,
 "nbformat_minor": 2
}
