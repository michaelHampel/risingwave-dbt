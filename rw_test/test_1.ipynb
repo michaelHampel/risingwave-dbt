{
 "cells": [
  {
   "cell_type": "code",
   "execution_count": 3,
   "metadata": {},
   "outputs": [],
   "source": [
    "import psycopg2\n",
    "\n",
    "conn = psycopg2.connect(host=\"localhost\", port=4566, user=\"root\", dbname=\"dev\") # Connect to RisingWave.\n",
    "conn.autocommit = True # Set queries to be automatically committed.\n",
    "\n",
    "with conn.cursor() as cur:\n",
    "    cur.execute(\"\"\"\n",
    "CREATE TABLE walk(distance INT, duration INT)\n",
    "WITH (\n",
    "    connector = 'datagen',\n",
    "    fields.distance.kind = 'sequence',\n",
    "    fields.distance.start = '1',\n",
    "    fields.distance.end  = '60',\n",
    "    fields.duration.kind = 'sequence',\n",
    "    fields.duration.start = '1',\n",
    "    fields.duration.end = '30',\n",
    "    datagen.rows.per.second='15',\n",
    "    datagen.split.num = '1'\n",
    ") FORMAT PLAIN ENCODE JSON\"\"\") # Execute the query.\n",
    "\n",
    "conn.close() # Close the connection."
   ]
  },
  {
   "cell_type": "code",
   "execution_count": 4,
   "metadata": {},
   "outputs": [],
   "source": [
    "import psycopg2\n",
    "\n",
    "conn = psycopg2.connect(host=\"localhost\", port=4566, user=\"root\", dbname=\"dev\")\n",
    "conn.autocommit = True\n",
    "\n",
    "with conn.cursor() as cur:\n",
    "    cur.execute(\"\"\"CREATE MATERIALIZED VIEW counter\n",
    "    AS SELECT\n",
    "    SUM(distance) as total_distance,\n",
    "    SUM(duration) as total_duration\n",
    "    FROM walk;\"\"\")\n",
    "\n",
    "conn.close()"
   ]
  },
  {
   "cell_type": "code",
   "execution_count": 5,
   "metadata": {},
   "outputs": [
    {
     "name": "stdout",
     "output_type": "stream",
     "text": [
      "[(465, 465)]\n"
     ]
    }
   ],
   "source": [
    "import psycopg2\n",
    "\n",
    "conn = psycopg2.connect(host=\"localhost\", port=4566, user=\"root\", dbname=\"dev\")\n",
    "conn.autocommit = True\n",
    "\n",
    "with conn.cursor() as cur:\n",
    "    cur.execute(\"SELECT * FROM counter;\")\n",
    "    print(cur.fetchall())\n",
    "conn.close()"
   ]
  }
 ],
 "metadata": {
  "kernelspec": {
   "display_name": "my_virtual_env",
   "language": "python",
   "name": "python3"
  },
  "language_info": {
   "codemirror_mode": {
    "name": "ipython",
    "version": 3
   },
   "file_extension": ".py",
   "mimetype": "text/x-python",
   "name": "python",
   "nbconvert_exporter": "python",
   "pygments_lexer": "ipython3",
   "version": "3.12.3"
  }
 },
 "nbformat": 4,
 "nbformat_minor": 2
}
